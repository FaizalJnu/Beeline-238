{
 "cells": [
  {
   "cell_type": "markdown",
   "metadata": {},
   "source": [
    "Notebook for plotting evaluation metrics for real datasets.\n",
    "\n",
    "This notebook expects an \"eval.csv\" file which is the output of `eval_net.py`"
   ]
  },
  {
   "cell_type": "code",
   "execution_count": 1,
   "metadata": {},
   "outputs": [
    {
     "name": "stdout",
     "output_type": "stream",
     "text": [
      "seaborn version: 0.9.0\n"
     ]
    }
   ],
   "source": [
    "import os, sys\n",
    "import yaml\n",
    "import itertools\n",
    "from collections import defaultdict\n",
    "from pathlib import Path\n",
    "import glob\n",
    "# from src.runner import Runner\n",
    "# from src.eval import Eval\n",
    "import numpy as np\n",
    "import pandas as pd\n",
    "import matplotlib.pyplot as plt\n",
    "import seaborn as sns\n",
    "import networkx as nx\n",
    "print(\"seaborn version: \" + sns.__version__)"
   ]
  },
  {
   "cell_type": "code",
   "execution_count": 75,
   "metadata": {},
   "outputs": [],
   "source": [
    "outputs_dir = \"/data/jeff-law/projects/2019-04-single-cell/Beeline/outputs/datasets\"\n",
    "# datasets = [\"Camp2017\", \"Chu2016\", \"Nestorowa2016\"]\n",
    "# num_genes_list = [100, 500, 1000, 2000, 5000]\n",
    "# algs = [\"SINCERITIES\", \"GRNBOOST2\", \"PIDC\", \"PPCOR\"]\n",
    "# algs = [\"SCODE\", \"SCRIBE\", \"GRISLI\"]\n",
    "out_dir = outputs_dir.replace(\"/datasets\",\"/viz\")\n",
    "os.makedirs(out_dir, exist_ok=True)"
   ]
  },
  {
   "cell_type": "code",
   "execution_count": 54,
   "metadata": {},
   "outputs": [
    {
     "data": {
      "text/html": [
       "<div>\n",
       "<style scoped>\n",
       "    .dataframe tbody tr th:only-of-type {\n",
       "        vertical-align: middle;\n",
       "    }\n",
       "\n",
       "    .dataframe tbody tr th {\n",
       "        vertical-align: top;\n",
       "    }\n",
       "\n",
       "    .dataframe thead th {\n",
       "        text-align: right;\n",
       "    }\n",
       "</style>\n",
       "<table border=\"1\" class=\"dataframe\">\n",
       "  <thead>\n",
       "    <tr style=\"text-align: right;\">\n",
       "      <th></th>\n",
       "      <th>algorithm</th>\n",
       "      <th>value</th>\n",
       "      <th>measure</th>\n",
       "      <th>dataset</th>\n",
       "      <th>ref_net</th>\n",
       "    </tr>\n",
       "  </thead>\n",
       "  <tbody>\n",
       "    <tr>\n",
       "      <th>0</th>\n",
       "      <td>GENIE3</td>\n",
       "      <td>0.269565</td>\n",
       "      <td>AUPRC</td>\n",
       "      <td>Camp2017/genecutoff-100</td>\n",
       "      <td>9606.protein.links.v11.0-gene-names-c400</td>\n",
       "    </tr>\n",
       "    <tr>\n",
       "      <th>1</th>\n",
       "      <td>GRISLI</td>\n",
       "      <td>0.157024</td>\n",
       "      <td>AUPRC</td>\n",
       "      <td>Camp2017/genecutoff-100</td>\n",
       "      <td>9606.protein.links.v11.0-gene-names-c400</td>\n",
       "    </tr>\n",
       "    <tr>\n",
       "      <th>2</th>\n",
       "      <td>GRNBOOST2</td>\n",
       "      <td>0.274592</td>\n",
       "      <td>AUPRC</td>\n",
       "      <td>Camp2017/genecutoff-100</td>\n",
       "      <td>9606.protein.links.v11.0-gene-names-c400</td>\n",
       "    </tr>\n",
       "    <tr>\n",
       "      <th>3</th>\n",
       "      <td>LEAP</td>\n",
       "      <td>0.245748</td>\n",
       "      <td>AUPRC</td>\n",
       "      <td>Camp2017/genecutoff-100</td>\n",
       "      <td>9606.protein.links.v11.0-gene-names-c400</td>\n",
       "    </tr>\n",
       "    <tr>\n",
       "      <th>4</th>\n",
       "      <td>PIDC</td>\n",
       "      <td>0.235449</td>\n",
       "      <td>AUPRC</td>\n",
       "      <td>Camp2017/genecutoff-100</td>\n",
       "      <td>9606.protein.links.v11.0-gene-names-c400</td>\n",
       "    </tr>\n",
       "  </tbody>\n",
       "</table>\n",
       "</div>"
      ],
      "text/plain": [
       "   algorithm     value measure                  dataset  \\\n",
       "0     GENIE3  0.269565   AUPRC  Camp2017/genecutoff-100   \n",
       "1     GRISLI  0.157024   AUPRC  Camp2017/genecutoff-100   \n",
       "2  GRNBOOST2  0.274592   AUPRC  Camp2017/genecutoff-100   \n",
       "3       LEAP  0.245748   AUPRC  Camp2017/genecutoff-100   \n",
       "4       PIDC  0.235449   AUPRC  Camp2017/genecutoff-100   \n",
       "\n",
       "                                    ref_net  \n",
       "0  9606.protein.links.v11.0-gene-names-c400  \n",
       "1  9606.protein.links.v11.0-gene-names-c400  \n",
       "2  9606.protein.links.v11.0-gene-names-c400  \n",
       "3  9606.protein.links.v11.0-gene-names-c400  \n",
       "4  9606.protein.links.v11.0-gene-names-c400  "
      ]
     },
     "execution_count": 54,
     "metadata": {},
     "output_type": "execute_result"
    }
   ],
   "source": [
    "# output of eval_net.py\n",
    "eval_file = \"%s/eval.csv\" % (outputs_dir)\n",
    "df = pd.read_csv(eval_file, header=0)\n",
    "df.head()"
   ]
  },
  {
   "cell_type": "code",
   "execution_count": 55,
   "metadata": {},
   "outputs": [
    {
     "name": "stdout",
     "output_type": "stream",
     "text": [
      "algorithm    10\n",
      "measure       4\n",
      "dataset       6\n",
      "ref_net       4\n",
      "dtype: int64\n",
      "['GENIE3' 'GRISLI' 'GRNBOOST2' 'LEAP' 'PIDC' 'PPCOR' 'SCINGE' 'SCODE'\n",
      " 'SCRIBE' 'SINCERITIES']\n",
      "['AUPRC' 'AUROC' 'EPr' 'Times']\n",
      "['Camp2017/genecutoff-100' 'Nestorowa2016/genecutoff-100'\n",
      " 'Camp2017/genecutoff-500' 'Chu2016/genecutoff-500'\n",
      " 'Nestorowa2016/genecutoff-500' 'Chu2016/genecutoff-100']\n",
      "['9606.protein.links.v11.0-gene-names-c400'\n",
      " '9606.protein.links.v11.0-gene-names-c700'\n",
      " '10090.protein.links.v11.0-ensembl-ids-c400'\n",
      " '10090.protein.links.v11.0-ensembl-ids-c700']\n"
     ]
    }
   ],
   "source": [
    "print(df.drop('value', axis=1).nunique())\n",
    "print(df['algorithm'].unique())\n",
    "print(df['measure'].unique())\n",
    "print(df['dataset'].unique())\n",
    "print(df['ref_net'].unique())"
   ]
  },
  {
   "cell_type": "code",
   "execution_count": 56,
   "metadata": {},
   "outputs": [
    {
     "data": {
      "text/html": [
       "<div>\n",
       "<style scoped>\n",
       "    .dataframe tbody tr th:only-of-type {\n",
       "        vertical-align: middle;\n",
       "    }\n",
       "\n",
       "    .dataframe tbody tr th {\n",
       "        vertical-align: top;\n",
       "    }\n",
       "\n",
       "    .dataframe thead th {\n",
       "        text-align: right;\n",
       "    }\n",
       "</style>\n",
       "<table border=\"1\" class=\"dataframe\">\n",
       "  <thead>\n",
       "    <tr style=\"text-align: right;\">\n",
       "      <th></th>\n",
       "      <th>algorithm</th>\n",
       "      <th>value</th>\n",
       "      <th>measure</th>\n",
       "      <th>dataset</th>\n",
       "      <th>ref_net</th>\n",
       "      <th>num_genes</th>\n",
       "    </tr>\n",
       "  </thead>\n",
       "  <tbody>\n",
       "    <tr>\n",
       "      <th>0</th>\n",
       "      <td>GENIE3</td>\n",
       "      <td>0.269565</td>\n",
       "      <td>AUPRC</td>\n",
       "      <td>Camp2017</td>\n",
       "      <td>9606.protein.links.v11.0-gene-names-c400</td>\n",
       "      <td>100</td>\n",
       "    </tr>\n",
       "    <tr>\n",
       "      <th>10</th>\n",
       "      <td>GENIE3</td>\n",
       "      <td>0.669506</td>\n",
       "      <td>AUROC</td>\n",
       "      <td>Camp2017</td>\n",
       "      <td>9606.protein.links.v11.0-gene-names-c400</td>\n",
       "      <td>100</td>\n",
       "    </tr>\n",
       "    <tr>\n",
       "      <th>24</th>\n",
       "      <td>GENIE3</td>\n",
       "      <td>0.234694</td>\n",
       "      <td>EPr</td>\n",
       "      <td>Camp2017</td>\n",
       "      <td>9606.protein.links.v11.0-gene-names-c400</td>\n",
       "      <td>100</td>\n",
       "    </tr>\n",
       "    <tr>\n",
       "      <th>30</th>\n",
       "      <td>GENIE3</td>\n",
       "      <td>533.340000</td>\n",
       "      <td>Times</td>\n",
       "      <td>Camp2017</td>\n",
       "      <td>9606.protein.links.v11.0-gene-names-c400</td>\n",
       "      <td>100</td>\n",
       "    </tr>\n",
       "    <tr>\n",
       "      <th>136</th>\n",
       "      <td>GENIE3</td>\n",
       "      <td>0.165628</td>\n",
       "      <td>AUPRC</td>\n",
       "      <td>Camp2017</td>\n",
       "      <td>9606.protein.links.v11.0-gene-names-c400</td>\n",
       "      <td>500</td>\n",
       "    </tr>\n",
       "  </tbody>\n",
       "</table>\n",
       "</div>"
      ],
      "text/plain": [
       "    algorithm       value measure   dataset  \\\n",
       "0      GENIE3    0.269565   AUPRC  Camp2017   \n",
       "10     GENIE3    0.669506   AUROC  Camp2017   \n",
       "24     GENIE3    0.234694     EPr  Camp2017   \n",
       "30     GENIE3  533.340000   Times  Camp2017   \n",
       "136    GENIE3    0.165628   AUPRC  Camp2017   \n",
       "\n",
       "                                      ref_net num_genes  \n",
       "0    9606.protein.links.v11.0-gene-names-c400       100  \n",
       "10   9606.protein.links.v11.0-gene-names-c400       100  \n",
       "24   9606.protein.links.v11.0-gene-names-c400       100  \n",
       "30   9606.protein.links.v11.0-gene-names-c400       100  \n",
       "136  9606.protein.links.v11.0-gene-names-c400       500  "
      ]
     },
     "execution_count": 56,
     "metadata": {},
     "output_type": "execute_result"
    }
   ],
   "source": [
    "df['num_genes'] = df['dataset'].apply(lambda x: x.split('-')[1])\n",
    "df['dataset'] = df['dataset'].apply(lambda x: x.split('/')[0])\n",
    "df.sort_values(by=['algorithm', 'dataset', 'ref_net', 'num_genes'], inplace=True)\n",
    "df.head()"
   ]
  },
  {
   "cell_type": "code",
   "execution_count": 71,
   "metadata": {},
   "outputs": [
    {
     "data": {
      "text/html": [
       "<div>\n",
       "<style scoped>\n",
       "    .dataframe tbody tr th:only-of-type {\n",
       "        vertical-align: middle;\n",
       "    }\n",
       "\n",
       "    .dataframe tbody tr th {\n",
       "        vertical-align: top;\n",
       "    }\n",
       "\n",
       "    .dataframe thead th {\n",
       "        text-align: right;\n",
       "    }\n",
       "</style>\n",
       "<table border=\"1\" class=\"dataframe\">\n",
       "  <thead>\n",
       "    <tr style=\"text-align: right;\">\n",
       "      <th></th>\n",
       "      <th>algorithm</th>\n",
       "      <th>value</th>\n",
       "      <th>measure</th>\n",
       "      <th>dataset</th>\n",
       "      <th>ref_net</th>\n",
       "      <th>num_genes</th>\n",
       "    </tr>\n",
       "  </thead>\n",
       "  <tbody>\n",
       "    <tr>\n",
       "      <th>0</th>\n",
       "      <td>GENIE3</td>\n",
       "      <td>0.269565</td>\n",
       "      <td>AUPRC</td>\n",
       "      <td>Camp2017</td>\n",
       "      <td>STRING-400</td>\n",
       "      <td>100</td>\n",
       "    </tr>\n",
       "    <tr>\n",
       "      <th>10</th>\n",
       "      <td>GENIE3</td>\n",
       "      <td>0.669506</td>\n",
       "      <td>AUROC</td>\n",
       "      <td>Camp2017</td>\n",
       "      <td>STRING-400</td>\n",
       "      <td>100</td>\n",
       "    </tr>\n",
       "    <tr>\n",
       "      <th>24</th>\n",
       "      <td>GENIE3</td>\n",
       "      <td>0.234694</td>\n",
       "      <td>EPr</td>\n",
       "      <td>Camp2017</td>\n",
       "      <td>STRING-400</td>\n",
       "      <td>100</td>\n",
       "    </tr>\n",
       "    <tr>\n",
       "      <th>30</th>\n",
       "      <td>GENIE3</td>\n",
       "      <td>533.340000</td>\n",
       "      <td>Times</td>\n",
       "      <td>Camp2017</td>\n",
       "      <td>STRING-400</td>\n",
       "      <td>100</td>\n",
       "    </tr>\n",
       "    <tr>\n",
       "      <th>136</th>\n",
       "      <td>GENIE3</td>\n",
       "      <td>0.165628</td>\n",
       "      <td>AUPRC</td>\n",
       "      <td>Camp2017</td>\n",
       "      <td>STRING-400</td>\n",
       "      <td>500</td>\n",
       "    </tr>\n",
       "  </tbody>\n",
       "</table>\n",
       "</div>"
      ],
      "text/plain": [
       "    algorithm       value measure   dataset     ref_net num_genes\n",
       "0      GENIE3    0.269565   AUPRC  Camp2017  STRING-400       100\n",
       "10     GENIE3    0.669506   AUROC  Camp2017  STRING-400       100\n",
       "24     GENIE3    0.234694     EPr  Camp2017  STRING-400       100\n",
       "30     GENIE3  533.340000   Times  Camp2017  STRING-400       100\n",
       "136    GENIE3    0.165628   AUPRC  Camp2017  STRING-400       500"
      ]
     },
     "execution_count": 71,
     "metadata": {},
     "output_type": "execute_result"
    }
   ],
   "source": [
    "net_names = {\n",
    "    \"9606.protein.links.v11.0-gene-names-c700\": \"STRING-700\", \n",
    "    \"10090.protein.links.v11.0-ensembl-ids-c700\": \"STRING-700\",\n",
    "    \"9606.protein.links.v11.0-gene-names-c400\": \"STRING-400\", \n",
    "    \"10090.protein.links.v11.0-ensembl-ids-c400\": \"STRING-400\",\n",
    "}\n",
    "df.replace(net_names, inplace=True)\n",
    "# df.head()"
   ]
  },
  {
   "cell_type": "code",
   "execution_count": 88,
   "metadata": {},
   "outputs": [
    {
     "data": {
      "text/html": [
       "<div>\n",
       "<style scoped>\n",
       "    .dataframe tbody tr th:only-of-type {\n",
       "        vertical-align: middle;\n",
       "    }\n",
       "\n",
       "    .dataframe tbody tr th {\n",
       "        vertical-align: top;\n",
       "    }\n",
       "\n",
       "    .dataframe thead th {\n",
       "        text-align: right;\n",
       "    }\n",
       "</style>\n",
       "<table border=\"1\" class=\"dataframe\">\n",
       "  <thead>\n",
       "    <tr style=\"text-align: right;\">\n",
       "      <th></th>\n",
       "      <th>algorithm</th>\n",
       "      <th>value</th>\n",
       "      <th>measure</th>\n",
       "      <th>dataset</th>\n",
       "      <th>ref_net</th>\n",
       "      <th>num_genes</th>\n",
       "    </tr>\n",
       "  </thead>\n",
       "  <tbody>\n",
       "    <tr>\n",
       "      <th>40</th>\n",
       "      <td>GENIE3</td>\n",
       "      <td>0.234492</td>\n",
       "      <td>AUPRC</td>\n",
       "      <td>Camp2017</td>\n",
       "      <td>STRING-700</td>\n",
       "      <td>100</td>\n",
       "    </tr>\n",
       "    <tr>\n",
       "      <th>176</th>\n",
       "      <td>GENIE3</td>\n",
       "      <td>0.167375</td>\n",
       "      <td>AUPRC</td>\n",
       "      <td>Camp2017</td>\n",
       "      <td>STRING-700</td>\n",
       "      <td>500</td>\n",
       "    </tr>\n",
       "    <tr>\n",
       "      <th>41</th>\n",
       "      <td>GRISLI</td>\n",
       "      <td>0.169772</td>\n",
       "      <td>AUPRC</td>\n",
       "      <td>Camp2017</td>\n",
       "      <td>STRING-700</td>\n",
       "      <td>100</td>\n",
       "    </tr>\n",
       "    <tr>\n",
       "      <th>177</th>\n",
       "      <td>GRISLI</td>\n",
       "      <td>0.058537</td>\n",
       "      <td>AUPRC</td>\n",
       "      <td>Camp2017</td>\n",
       "      <td>STRING-700</td>\n",
       "      <td>500</td>\n",
       "    </tr>\n",
       "    <tr>\n",
       "      <th>356</th>\n",
       "      <td>GRISLI</td>\n",
       "      <td>0.081709</td>\n",
       "      <td>AUPRC</td>\n",
       "      <td>Chu2016</td>\n",
       "      <td>STRING-700</td>\n",
       "      <td>100</td>\n",
       "    </tr>\n",
       "  </tbody>\n",
       "</table>\n",
       "</div>"
      ],
      "text/plain": [
       "    algorithm     value measure   dataset     ref_net num_genes\n",
       "40     GENIE3  0.234492   AUPRC  Camp2017  STRING-700       100\n",
       "176    GENIE3  0.167375   AUPRC  Camp2017  STRING-700       500\n",
       "41     GRISLI  0.169772   AUPRC  Camp2017  STRING-700       100\n",
       "177    GRISLI  0.058537   AUPRC  Camp2017  STRING-700       500\n",
       "356    GRISLI  0.081709   AUPRC   Chu2016  STRING-700       100"
      ]
     },
     "execution_count": 88,
     "metadata": {},
     "output_type": "execute_result"
    }
   ],
   "source": [
    "# first plot the early precision and AUPRC for 100 genes\n",
    "# measure = \"EPr\"\n",
    "measure = \"AUPRC\"\n",
    "ref_net = \"STRING-700\"\n",
    "df2 = df[df['measure'] == measure]\n",
    "df2 = df2[df2['ref_net'] == ref_net]\n",
    "# df2 = df2[df2['ref_net'].isin(ref_nets)]\n",
    "df2.head()"
   ]
  },
  {
   "cell_type": "code",
   "execution_count": 90,
   "metadata": {},
   "outputs": [
    {
     "data": {
      "text/html": [
       "<div>\n",
       "<style scoped>\n",
       "    .dataframe tbody tr th:only-of-type {\n",
       "        vertical-align: middle;\n",
       "    }\n",
       "\n",
       "    .dataframe tbody tr th {\n",
       "        vertical-align: top;\n",
       "    }\n",
       "\n",
       "    .dataframe thead th {\n",
       "        text-align: right;\n",
       "    }\n",
       "</style>\n",
       "<table border=\"1\" class=\"dataframe\">\n",
       "  <thead>\n",
       "    <tr style=\"text-align: right;\">\n",
       "      <th></th>\n",
       "      <th>algorithm</th>\n",
       "      <th>AUPRC</th>\n",
       "      <th>measure</th>\n",
       "      <th>dataset</th>\n",
       "      <th>ref_net</th>\n",
       "      <th>num_genes</th>\n",
       "    </tr>\n",
       "  </thead>\n",
       "  <tbody>\n",
       "    <tr>\n",
       "      <th>40</th>\n",
       "      <td>GENIE3</td>\n",
       "      <td>0.234492</td>\n",
       "      <td>AUPRC</td>\n",
       "      <td>Camp2017</td>\n",
       "      <td>STRING-700</td>\n",
       "      <td>100</td>\n",
       "    </tr>\n",
       "    <tr>\n",
       "      <th>176</th>\n",
       "      <td>GENIE3</td>\n",
       "      <td>0.167375</td>\n",
       "      <td>AUPRC</td>\n",
       "      <td>Camp2017</td>\n",
       "      <td>STRING-700</td>\n",
       "      <td>500</td>\n",
       "    </tr>\n",
       "    <tr>\n",
       "      <th>41</th>\n",
       "      <td>GRISLI</td>\n",
       "      <td>0.169772</td>\n",
       "      <td>AUPRC</td>\n",
       "      <td>Camp2017</td>\n",
       "      <td>STRING-700</td>\n",
       "      <td>100</td>\n",
       "    </tr>\n",
       "    <tr>\n",
       "      <th>177</th>\n",
       "      <td>GRISLI</td>\n",
       "      <td>0.058537</td>\n",
       "      <td>AUPRC</td>\n",
       "      <td>Camp2017</td>\n",
       "      <td>STRING-700</td>\n",
       "      <td>500</td>\n",
       "    </tr>\n",
       "    <tr>\n",
       "      <th>356</th>\n",
       "      <td>GRISLI</td>\n",
       "      <td>0.081709</td>\n",
       "      <td>AUPRC</td>\n",
       "      <td>Chu2016</td>\n",
       "      <td>STRING-700</td>\n",
       "      <td>100</td>\n",
       "    </tr>\n",
       "  </tbody>\n",
       "</table>\n",
       "</div>"
      ],
      "text/plain": [
       "    algorithm     AUPRC measure   dataset     ref_net num_genes\n",
       "40     GENIE3  0.234492   AUPRC  Camp2017  STRING-700       100\n",
       "176    GENIE3  0.167375   AUPRC  Camp2017  STRING-700       500\n",
       "41     GRISLI  0.169772   AUPRC  Camp2017  STRING-700       100\n",
       "177    GRISLI  0.058537   AUPRC  Camp2017  STRING-700       500\n",
       "356    GRISLI  0.081709   AUPRC   Chu2016  STRING-700       100"
      ]
     },
     "execution_count": 90,
     "metadata": {},
     "output_type": "execute_result"
    }
   ],
   "source": [
    "df2.rename(columns={'value': measure}, inplace=True)\n",
    "# early precision shouldn't be 0 so replace 0 with na\n",
    "df2.replace(0,np.nan, inplace=True)\n",
    "df2.head()"
   ]
  },
  {
   "cell_type": "code",
   "execution_count": 91,
   "metadata": {},
   "outputs": [
    {
     "name": "stdout",
     "output_type": "stream",
     "text": [
      "writing /data/jeff-law/projects/2019-04-single-cell/Beeline/outputs/viz/AUPRC-STRING-700.pdf\n"
     ]
    },
    {
     "data": {
      "image/png": "[encoded data removed]",
      "text/plain": [
       "<Figure size 576x288 with 2 Axes>"
      ]
     },
     "metadata": {
      "needs_background": "light"
     },
     "output_type": "display_data"
    }
   ],
   "source": [
    "f, axes = plt.subplots(ncols=2, figsize=(8,4))\n",
    "num_genes_list = [100,500]\n",
    "for i, (num_genes, ax) in enumerate(zip(num_genes_list, axes)):\n",
    "    df3 = df2[df2['num_genes'] == str(num_genes)]\n",
    "    sns.barplot(y=\"algorithm\", x=measure, hue='dataset', data=df3, ax=ax)\n",
    "    if i == 0:\n",
    "        ax.legend().remove()\n",
    "    ax.set_ylabel(\"\")\n",
    "    ax.set_title(\"%d genes\\nnetwork: %s\" % (num_genes, ref_net))\n",
    "    ax.set_xlim(0,0.6)\n",
    "#     ax.set_xlim(0,1)\n",
    "\n",
    "plt.tight_layout()\n",
    "out_file = \"%s/%s-%s.pdf\" % (out_dir, measure, ref_net)\n",
    "print(\"writing %s\" % (out_file))\n",
    "plt.savefig(out_file, bbox_inches=\"tight\")\n",
    "plt.savefig(out_file.replace(\".pdf\", \".png\"), bbox_inches=\"tight\")\n",
    "plt.show()"
   ]
  },
  {
   "cell_type": "code",
   "execution_count": 38,
   "metadata": {},
   "outputs": [
    {
     "data": {
      "text/plain": [
       "Text(0.5, 1.0, '100 genes\\nnetwork: 9606.protein.links.v11.0-gene-names-c700')"
      ]
     },
     "execution_count": 38,
     "metadata": {},
     "output_type": "execute_result"
    },
    {
     "data": {
      "image/png": "[encoded data removed]",
      "text/plain": [
       "<Figure size 432x288 with 1 Axes>"
      ]
     },
     "metadata": {
      "needs_background": "light"
     },
     "output_type": "display_data"
    }
   ],
   "source": [
    "# now make a boxplot for all of the methods\n",
    "sns.boxplot(y=\"algorithm\", x=\"AUPRC\", data=df2)\n",
    "plt.ylabel(\"\")\n",
    "plt.title(\"%d genes\\nnetwork: %s\" % (num_genes, ref_nets[0]))"
   ]
  }
 ],
 "metadata": {
  "kernelspec": {
   "display_name": "Python 3",
   "language": "python",
   "name": "python3"
  },
  "language_info": {
   "codemirror_mode": {
    "name": "ipython",
    "version": 3
   },
   "file_extension": ".py",
   "mimetype": "text/x-python",
   "name": "python",
   "nbconvert_exporter": "python",
   "pygments_lexer": "ipython3",
   "version": "3.7.1"
  }
 },
 "nbformat": 4,
 "nbformat_minor": 2
}
