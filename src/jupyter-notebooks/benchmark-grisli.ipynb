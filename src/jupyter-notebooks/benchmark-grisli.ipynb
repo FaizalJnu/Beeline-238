{
 "cells": [
  {
   "cell_type": "code",
   "execution_count": 1,
   "metadata": {},
   "outputs": [],
   "source": [
    "import os, sys\n",
    "import yaml\n",
    "import itertools\n",
    "from collections import defaultdict\n",
    "from pathlib import Path\n",
    "# from src.runner import Runner\n",
    "# from src.eval import Eval\n",
    "import numpy as np\n",
    "import pandas as pd\n",
    "import matplotlib.pyplot as plt\n",
    "import seaborn as sns"
   ]
  },
  {
   "cell_type": "code",
   "execution_count": 2,
   "metadata": {},
   "outputs": [],
   "source": [
    "def mad(x):\n",
    "    med = np.median(x)\n",
    "    return np.median(np.abs(x - med))"
   ]
  },
  {
   "cell_type": "code",
   "execution_count": 3,
   "metadata": {},
   "outputs": [],
   "source": [
    "base_dir = \"/data/jeff-law/projects/2019-04-single-cell/RNMethods\"\n",
    "os.chdir(base_dir)"
   ]
  },
  {
   "cell_type": "code",
   "execution_count": 4,
   "metadata": {},
   "outputs": [],
   "source": [
    "def summarize(s, cutoff=0, less_than=False):\n",
    "    print('\\t'.join(['median','MAD','cutoff','perc']))\n",
    "    if less_than:\n",
    "        perc_pass_cutoff = len(s[s <= cutoff]) / float(len(s))*100\n",
    "    else:\n",
    "        perc_pass_cutoff = len(s[s >= cutoff]) / float(len(s))*100\n",
    "    print(\"%0.2f\\t%0.2f\\t%0.2f\\t%0.1f\" % (s.median(), mad(s.values), cutoff, perc_pass_cutoff))"
   ]
  },
  {
   "cell_type": "code",
   "execution_count": 5,
   "metadata": {},
   "outputs": [],
   "source": [
    "def summary_plt(df, alg, dataset, measure='AUROC'):\n",
    "    df[measure].plot.hist(bins=20)\n",
    "    plt.xlabel(measure)\n",
    "    plt.title(\"%s - %s\" % (alg, dataset))\n",
    "    plt.show()\n",
    "    plt.close()"
   ]
  },
  {
   "cell_type": "code",
   "execution_count": 6,
   "metadata": {},
   "outputs": [],
   "source": [
    "def get_best_params(df, measure, cutoff, less_than=False):\n",
    "    best_params = defaultdict(set)\n",
    "#     params_list = ['l','dT','nl','kw','pz','pr','nr']\n",
    "    if less_than:\n",
    "        pass_cutoff = df[df[measure] <= cutoff]['params']\n",
    "    else:\n",
    "        pass_cutoff = df[df[measure] >= cutoff]['params']        \n",
    "    for param in pass_cutoff:\n",
    "        for i, param_val in enumerate(param.split('-')):\n",
    "            p = params_list[i]\n",
    "            val = param_val.replace(p,'')\n",
    "            best_params[p].add(val)\n",
    "    print('\\t'.join(p for p in params_list))\n",
    "    print('\\t'.join(','.join(best_params[p]) for p in params_list))"
   ]
  },
  {
   "cell_type": "code",
   "execution_count": 7,
   "metadata": {},
   "outputs": [],
   "source": [
    "def get_param_list(df):\n",
    "    params_list = []\n",
    "    for i, param_val in enumerate(df['params'].values[0].split('-')):\n",
    "        # the parameter name could be multiple letters. Find the first index of a number\n",
    "        num_idx = min([j for j in range(len(param_val)) if param_val[j].isdigit()])\n",
    "        p = param_val[:num_idx]\n",
    "        params_list.append(p)\n",
    "    return params_list"
   ]
  },
  {
   "cell_type": "code",
   "execution_count": 35,
   "metadata": {},
   "outputs": [],
   "source": [
    "def plot_heatmap(df, alg, dataset, measure='AUROC'):\n",
    "    # for GRISLI, since there are only 2 parameters that really matter, make a heamap\n",
    "    params_df = df.pivot(\"L\",\"a\",measure).sort_index(ascending=False)\n",
    "    # params_df.head()\n",
    "    ax = sns.heatmap(params_df)\n",
    "    plt.title(\"%s - %s - %s\" % (alg, dataset, measure))\n",
    "    plt.show()\n",
    "    plt.close()"
   ]
  },
  {
   "cell_type": "code",
   "execution_count": 33,
   "metadata": {},
   "outputs": [],
   "source": [
    "def get_dataset(eval_file):\n",
    "    print(eval_file)\n",
    "    df = pd.read_csv(eval_file, header=0)\n",
    "    df = df[df['alg'] == alg]\n",
    "    \n",
    "    params_list = get_param_list(df)\n",
    "    print(\"params list: \", params_list)\n",
    "    print(\"%d values\" % (len(df)))\n",
    "    \n",
    "    # expand the parameters into their own columns\n",
    "    params_df = df['params'].str.split('-', expand=True)\n",
    "    # df = df.copy()\n",
    "    for i, col in enumerate(params_df.columns):\n",
    "        p = params_list[i]\n",
    "        df[p] = params_df[col].apply(lambda x: float(x.replace(p,'')))\n",
    "\n",
    "    return df, params_list"
   ]
  },
  {
   "cell_type": "code",
   "execution_count": 52,
   "metadata": {},
   "outputs": [
    {
     "name": "stdout",
     "output_type": "stream",
     "text": [
      "outputs/simulated/HSC/HSC_2000_0/eval.csv\n",
      "outputs/simulated/HSC/HSC_2000_0/eval.csv\n",
      "params list:  ['L', 'R', 'a']\n",
      "35 values\n",
      "outputs/simulated/HSC/HSC_2000_1/eval.csv\n",
      "outputs/simulated/HSC/HSC_2000_1/eval.csv\n",
      "params list:  ['L', 'R', 'a']\n",
      "35 values\n",
      "outputs/simulated/HSC/HSC_2000_2/eval.csv\n",
      "outputs/simulated/HSC/HSC_2000_2/eval.csv\n",
      "params list:  ['L', 'R', 'a']\n",
      "35 values\n",
      "outputs/simulated/HSC/HSC_2000_3/eval.csv\n",
      "outputs/simulated/HSC/HSC_2000_3/eval.csv\n",
      "params list:  ['L', 'R', 'a']\n",
      "35 values\n",
      "outputs/simulated/HSC/HSC_2000_4/eval.csv\n",
      "outputs/simulated/HSC/HSC_2000_4/eval.csv\n",
      "params list:  ['L', 'R', 'a']\n",
      "35 values\n",
      "outputs/simulated/HSC/HSC_2000_5/eval.csv\n",
      "outputs/simulated/HSC/HSC_2000_5/eval.csv\n",
      "params list:  ['L', 'R', 'a']\n",
      "35 values\n",
      "outputs/simulated/HSC/HSC_2000_6/eval.csv\n",
      "outputs/simulated/HSC/HSC_2000_6/eval.csv\n",
      "params list:  ['L', 'R', 'a']\n",
      "35 values\n",
      "outputs/simulated/HSC/HSC_2000_7/eval.csv\n",
      "outputs/simulated/HSC/HSC_2000_7/eval.csv\n",
      "params list:  ['L', 'R', 'a']\n",
      "35 values\n",
      "outputs/simulated/HSC/HSC_2000_8/eval.csv\n",
      "outputs/simulated/HSC/HSC_2000_8/eval.csv\n",
      "params list:  ['L', 'R', 'a']\n",
      "35 values\n",
      "outputs/simulated/HSC/HSC_2000_9/eval.csv\n",
      "outputs/simulated/HSC/HSC_2000_9/eval.csv\n",
      "params list:  ['L', 'R', 'a']\n",
      "35 values\n"
     ]
    },
    {
     "data": {
      "image/png": "[encoded data removed]",
      "text/plain": [
       "<Figure size 432x288 with 2 Axes>"
      ]
     },
     "metadata": {},
     "output_type": "display_data"
    }
   ],
   "source": [
    "# alg = \"SCINGE\"\n",
    "alg = \"GRISLI\"\n",
    "# simulations = \"dyn-LI\"\n",
    "# simulations = \"GSD\"\n",
    "simulations = \"HSC\"\n",
    "# simulations = \"mCAD\"\n",
    "# simulations = \"VSC\"\n",
    "# datasets = [\"dyn-LI_500_%d\"%i for i in range(10)]\n",
    "# datasets = [\"dyn-LI_2000_%d\"%i for i in range(10)]\n",
    "# datasets = [\"simulated/%s/%s_500_%d\"% (simulations, simulations, i) for i in range(10)]\n",
    "datasets = [\"simulated/%s/%s_2000_%d\"% (simulations, simulations, i) for i in range(10)]\n",
    "# datasets = [\"simulated/%s/%s_5000_%d\"% (simulations, simulations, i) for i in range(10)]\n",
    "# datasets = [\"datasets/human/hESC\", \"datasets/mouse/mEF\", \"datasets/mouse/mES-PE\"]\n",
    "dfs = []\n",
    "for dataset in datasets:\n",
    "    eval_file = \"outputs/%s/eval.csv\" % (dataset)\n",
    "    print(eval_file)\n",
    "    df, params_list = get_dataset(eval_file)\n",
    "#     plot_heatmap(alg, dataset, measure='AUPRC')\n",
    "    dfs.append(df)\n",
    "\n",
    "df_all = pd.concat(dfs)\n",
    "df_all = df_all.groupby('params').median()\n",
    "plot_heatmap(df_all, alg, simulations, measure='AUROC')\n",
    "\n",
    "# df.head()"
   ]
  },
  {
   "cell_type": "code",
   "execution_count": null,
   "metadata": {},
   "outputs": [],
   "source": []
  }
 ],
 "metadata": {
  "kernelspec": {
   "display_name": "Python 3",
   "language": "python",
   "name": "python3"
  },
  "language_info": {
   "codemirror_mode": {
    "name": "ipython",
    "version": 3
   },
   "file_extension": ".py",
   "mimetype": "text/x-python",
   "name": "python",
   "nbconvert_exporter": "python",
   "pygments_lexer": "ipython3",
   "version": "3.6.5"
  }
 },
 "nbformat": 4,
 "nbformat_minor": 2
}
