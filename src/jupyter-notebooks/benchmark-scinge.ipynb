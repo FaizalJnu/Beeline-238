{
 "cells": [
  {
   "cell_type": "code",
   "execution_count": 20,
   "metadata": {},
   "outputs": [],
   "source": [
    "import os, sys\n",
    "import yaml\n",
    "import itertools\n",
    "from collections import defaultdict\n",
    "from pathlib import Path\n",
    "# from src.runner import Runner\n",
    "# from src.eval import Eval\n",
    "import numpy as np\n",
    "import pandas as pd\n",
    "import matplotlib.pyplot as plt\n",
    "import seaborn as sns"
   ]
  },
  {
   "cell_type": "code",
   "execution_count": 21,
   "metadata": {},
   "outputs": [],
   "source": [
    "def mad(x):\n",
    "    med = np.median(x)\n",
    "    return np.median(np.abs(x - med))"
   ]
  },
  {
   "cell_type": "code",
   "execution_count": 22,
   "metadata": {},
   "outputs": [],
   "source": [
    "base_dir = \"/data/jeff-law/projects/2019-04-single-cell/RNMethods\"\n",
    "os.chdir(base_dir)"
   ]
  },
  {
   "cell_type": "code",
   "execution_count": 23,
   "metadata": {},
   "outputs": [],
   "source": [
    "def summarize(s, cutoff=0, less_than=False):\n",
    "    print('\\t'.join(['median','MAD','cutoff','perc']))\n",
    "    if less_than:\n",
    "        perc_pass_cutoff = len(s[s <= cutoff]) / float(len(s))*100\n",
    "    else:\n",
    "        perc_pass_cutoff = len(s[s >= cutoff]) / float(len(s))*100\n",
    "    print(\"%0.2f\\t%0.2f\\t%0.2f\\t%0.1f\" % (s.median(), mad(s.values), cutoff, perc_pass_cutoff))"
   ]
  },
  {
   "cell_type": "code",
   "execution_count": 24,
   "metadata": {},
   "outputs": [],
   "source": [
    "def summary_plt(df, alg, dataset, measure='AUROC'):\n",
    "    df[measure].plot.hist(bins=20)\n",
    "    plt.xlabel(measure)\n",
    "    plt.title(\"%s - %s\" % (alg, dataset))\n",
    "    plt.show()\n",
    "    plt.close()"
   ]
  },
  {
   "cell_type": "code",
   "execution_count": 25,
   "metadata": {},
   "outputs": [],
   "source": [
    "def get_best_params(df, measure, cutoff, less_than=False):\n",
    "    best_params = defaultdict(set)\n",
    "#     params_list = ['l','dT','nl','kw','pz','pr','nr']\n",
    "    if less_than:\n",
    "        pass_cutoff = df[df[measure] <= cutoff]['params']\n",
    "    else:\n",
    "        pass_cutoff = df[df[measure] >= cutoff]['params']        \n",
    "    for param in pass_cutoff:\n",
    "        for i, param_val in enumerate(param.split('-')):\n",
    "            p = params_list[i]\n",
    "            val = param_val.replace(p,'')\n",
    "            best_params[p].add(val)\n",
    "    print('\\t'.join(p for p in params_list))\n",
    "    print('\\t'.join(','.join(best_params[p]) for p in params_list))"
   ]
  },
  {
   "cell_type": "code",
   "execution_count": 26,
   "metadata": {},
   "outputs": [],
   "source": [
    "def get_param_list(df):\n",
    "    params_list = []\n",
    "    for i, param_val in enumerate(df['params'].values[0].split('-')):\n",
    "        # the parameter name could be multiple letters. Find the first index of a number\n",
    "        num_idx = min([j for j in range(len(param_val)) if param_val[j].isdigit()])\n",
    "        p = param_val[:num_idx]\n",
    "        params_list.append(p)\n",
    "    return params_list"
   ]
  },
  {
   "cell_type": "code",
   "execution_count": 32,
   "metadata": {},
   "outputs": [],
   "source": [
    "def get_dataset(eval_file):\n",
    "    df = pd.read_csv(eval_file, header=0)\n",
    "    df = df[df['alg'] == alg]\n",
    "    \n",
    "    params_list = get_param_list(df)\n",
    "    print(\"params list: \", params_list)\n",
    "    print(\"%d values\" % (len(df)))\n",
    "    \n",
    "    # expand the parameters into their own columns\n",
    "    params_df = df['params'].str.split('-', expand=True)\n",
    "    # df = df.copy()\n",
    "    for i, col in enumerate(params_df.columns):\n",
    "        p = params_list[i]\n",
    "        df[p] = params_df[col].apply(lambda x: float(x.replace(p,'')))\n",
    "        \n",
    "    df = remove_empty_nets(df)\n",
    "    return df, params_list"
   ]
  },
  {
   "cell_type": "code",
   "execution_count": 33,
   "metadata": {},
   "outputs": [],
   "source": [
    "def remove_empty_nets(df):\n",
    "#     print(\"summary of no edges: \")\n",
    "    summarize(df['num_edges'], 1, less_than=True)\n",
    "    get_best_params(df, 'num_edges', 1, less_than=True)\n",
    "    # remove the rows with no edges\n",
    "    print(\"removing %d rows with no edges\" % (len(df[df['num_edges'] == 0])))\n",
    "    df = df[df['num_edges'] > 0] \n",
    "    return df"
   ]
  },
  {
   "cell_type": "code",
   "execution_count": 45,
   "metadata": {},
   "outputs": [],
   "source": [
    "alg = \"SCINGE\"\n",
    "# simulations = \"GSD\"\n",
    "# simulations = \"HSC\"\n",
    "simulations = \"mCAD\"\n",
    "# simulations = \"VSC\"\n",
    "indexes = range(10)\n",
    "# indexes = range(1)\n",
    "# datasets = [\"%s_500_%d\"%(simulations, i) for i in indexes]\n",
    "datasets = [\"%s_2000_%d\"%(simulations, i) for i in indexes]\n",
    "# datasets = [\"%s_5000_%d\"%(simulations, i) for i in indexes]\n",
    "dataset = datasets[0]"
   ]
  },
  {
   "cell_type": "code",
   "execution_count": 46,
   "metadata": {},
   "outputs": [
    {
     "name": "stdout",
     "output_type": "stream",
     "text": [
      "params list:  ['l', 'dT', 'nl', 'kw', 'pz', 'pr', 'nr']\n",
      "480 values\n",
      "median\tMAD\tcutoff\tperc\n",
      "18.50\t2.50\t1.00\t0.0\n",
      "l\tdT\tnl\tkw\tpz\tpr\tnr\n",
      "\t\t\t\t\t\t\n",
      "removing 0 rows with no edges\n"
     ]
    },
    {
     "data": {
      "image/png": "[encoded data removed]",
      "text/plain": [
       "<Figure size 432x288 with 1 Axes>"
      ]
     },
     "metadata": {},
     "output_type": "display_data"
    },
    {
     "name": "stdout",
     "output_type": "stream",
     "text": [
      "median\tMAD\tcutoff\tperc\n",
      "0.59\t0.04\t0.69\t2.5\n",
      "l\tdT\tnl\tkw\tpz\tpr\tnr\n",
      "0\t15\t5\t4\t0.2,0\t0.2,0\t6,2,10\n",
      "\n",
      "--------------------------------------------------\n",
      "params list:  ['l', 'dT', 'nl', 'kw', 'pz', 'pr', 'nr']\n",
      "480 values\n",
      "median\tMAD\tcutoff\tperc\n",
      "19.00\t2.00\t1.00\t0.0\n",
      "l\tdT\tnl\tkw\tpz\tpr\tnr\n",
      "\t\t\t\t\t\t\n",
      "removing 0 rows with no edges\n"
     ]
    },
    {
     "data": {
      "image/png": "[encoded data removed]",
      "text/plain": [
       "<Figure size 432x288 with 1 Axes>"
      ]
     },
     "metadata": {},
     "output_type": "display_data"
    },
    {
     "name": "stdout",
     "output_type": "stream",
     "text": [
      "median\tMAD\tcutoff\tperc\n",
      "0.55\t0.04\t0.74\t2.5\n",
      "l\tdT\tnl\tkw\tpz\tpr\tnr\n",
      "0\t5\t9\t1\t0.2,0\t0.2,0\t6,2,10\n",
      "\n",
      "--------------------------------------------------\n",
      "params list:  ['l', 'dT', 'nl', 'kw', 'pz', 'pr', 'nr']\n",
      "480 values\n",
      "median\tMAD\tcutoff\tperc\n",
      "20.00\t1.00\t1.00\t0.0\n",
      "l\tdT\tnl\tkw\tpz\tpr\tnr\n",
      "\t\t\t\t\t\t\n",
      "removing 0 rows with no edges\n"
     ]
    },
    {
     "data": {
      "image/png": "[encoded data removed]",
      "text/plain": [
       "<Figure size 432x288 with 1 Axes>"
      ]
     },
     "metadata": {},
     "output_type": "display_data"
    },
    {
     "name": "stdout",
     "output_type": "stream",
     "text": [
      "median\tMAD\tcutoff\tperc\n",
      "0.64\t0.06\t0.82\t2.5\n",
      "l\tdT\tnl\tkw\tpz\tpr\tnr\n",
      "0\t9\t5\t0.5\t0.2,0\t0.2,0\t6,2,10\n",
      "\n",
      "--------------------------------------------------\n",
      "params list:  ['l', 'dT', 'nl', 'kw', 'pz', 'pr', 'nr']\n",
      "480 values\n",
      "median\tMAD\tcutoff\tperc\n",
      "20.00\t1.00\t1.00\t0.0\n",
      "l\tdT\tnl\tkw\tpz\tpr\tnr\n",
      "\t\t\t\t\t\t\n",
      "removing 0 rows with no edges\n"
     ]
    },
    {
     "data": {
      "image/png": "[encoded data removed]",
      "text/plain": [
       "<Figure size 432x288 with 1 Axes>"
      ]
     },
     "metadata": {},
     "output_type": "display_data"
    },
    {
     "name": "stdout",
     "output_type": "stream",
     "text": [
      "median\tMAD\tcutoff\tperc\n",
      "0.58\t0.04\t0.72\t2.5\n",
      "l\tdT\tnl\tkw\tpz\tpr\tnr\n",
      "0\t9\t5\t0.5\t0.2,0\t0.2,0\t6,2,10\n",
      "\n",
      "--------------------------------------------------\n",
      "params list:  ['l', 'dT', 'nl', 'kw', 'pz', 'pr', 'nr']\n",
      "480 values\n",
      "median\tMAD\tcutoff\tperc\n",
      "17.50\t3.50\t1.00\t0.0\n",
      "l\tdT\tnl\tkw\tpz\tpr\tnr\n",
      "\t\t\t\t\t\t\n",
      "removing 0 rows with no edges\n"
     ]
    },
    {
     "data": {
      "image/png": "[encoded data removed]",
      "text/plain": [
       "<Figure size 432x288 with 1 Axes>"
      ]
     },
     "metadata": {},
     "output_type": "display_data"
    },
    {
     "name": "stdout",
     "output_type": "stream",
     "text": [
      "median\tMAD\tcutoff\tperc\n",
      "0.56\t0.04\t0.65\t2.5\n",
      "l\tdT\tnl\tkw\tpz\tpr\tnr\n",
      "0\t15\t5\t0.5\t0.2,0\t0.2,0\t6,2,10\n",
      "\n",
      "--------------------------------------------------\n",
      "params list:  ['l', 'dT', 'nl', 'kw', 'pz', 'pr', 'nr']\n",
      "480 values\n",
      "median\tMAD\tcutoff\tperc\n",
      "20.00\t1.00\t1.00\t0.0\n",
      "l\tdT\tnl\tkw\tpz\tpr\tnr\n",
      "\t\t\t\t\t\t\n",
      "removing 0 rows with no edges\n"
     ]
    },
    {
     "data": {
      "image/png": "[encoded data removed]",
      "text/plain": [
       "<Figure size 432x288 with 1 Axes>"
      ]
     },
     "metadata": {},
     "output_type": "display_data"
    },
    {
     "name": "stdout",
     "output_type": "stream",
     "text": [
      "median\tMAD\tcutoff\tperc\n",
      "0.62\t0.04\t0.73\t2.5\n",
      "l\tdT\tnl\tkw\tpz\tpr\tnr\n",
      "0\t5\t15\t1\t0.2,0\t0.2,0\t6,2,10\n",
      "\n",
      "--------------------------------------------------\n",
      "params list:  ['l', 'dT', 'nl', 'kw', 'pz', 'pr', 'nr']\n",
      "204 values\n",
      "median\tMAD\tcutoff\tperc\n",
      "19.00\t1.00\t1.00\t0.0\n",
      "l\tdT\tnl\tkw\tpz\tpr\tnr\n",
      "\t\t\t\t\t\t\n",
      "removing 0 rows with no edges\n"
     ]
    },
    {
     "data": {
      "image/png": "[encoded data removed]",
      "text/plain": [
       "<Figure size 432x288 with 1 Axes>"
      ]
     },
     "metadata": {},
     "output_type": "display_data"
    },
    {
     "name": "stdout",
     "output_type": "stream",
     "text": [
      "median\tMAD\tcutoff\tperc\n",
      "0.58\t0.06\t0.69\t11.8\n",
      "l\tdT\tnl\tkw\tpz\tpr\tnr\n",
      "0\t3,5\t5,9\t0.5,2\t0.2,0\t0.2,0\t6,2,10\n",
      "\n",
      "--------------------------------------------------\n",
      "params list:  ['l', 'dT', 'nl', 'kw', 'pz', 'pr', 'nr']\n",
      "204 values\n",
      "median\tMAD\tcutoff\tperc\n",
      "18.00\t2.00\t1.00\t0.0\n",
      "l\tdT\tnl\tkw\tpz\tpr\tnr\n",
      "\t\t\t\t\t\t\n",
      "removing 0 rows with no edges\n"
     ]
    },
    {
     "data": {
      "image/png": "[encoded data removed]",
      "text/plain": [
       "<Figure size 432x288 with 1 Axes>"
      ]
     },
     "metadata": {},
     "output_type": "display_data"
    },
    {
     "name": "stdout",
     "output_type": "stream",
     "text": [
      "median\tMAD\tcutoff\tperc\n",
      "0.50\t0.05\t0.64\t5.9\n",
      "l\tdT\tnl\tkw\tpz\tpr\tnr\n",
      "0\t5\t9\t1\t0.2,0\t0.2,0\t6,2,10\n",
      "\n",
      "--------------------------------------------------\n",
      "params list:  ['l', 'dT', 'nl', 'kw', 'pz', 'pr', 'nr']\n",
      "204 values\n",
      "median\tMAD\tcutoff\tperc\n",
      "17.00\t4.00\t1.00\t0.0\n",
      "l\tdT\tnl\tkw\tpz\tpr\tnr\n",
      "\t\t\t\t\t\t\n",
      "removing 0 rows with no edges\n"
     ]
    },
    {
     "data": {
      "image/png": "[encoded data removed]",
      "text/plain": [
       "<Figure size 432x288 with 1 Axes>"
      ]
     },
     "metadata": {},
     "output_type": "display_data"
    },
    {
     "name": "stdout",
     "output_type": "stream",
     "text": [
      "median\tMAD\tcutoff\tperc\n",
      "0.57\t0.06\t0.67\t5.9\n",
      "l\tdT\tnl\tkw\tpz\tpr\tnr\n",
      "0\t5\t9\t1\t0.2,0\t0.2,0\t6,2,10\n",
      "\n",
      "--------------------------------------------------\n",
      "params list:  ['l', 'dT', 'nl', 'kw', 'pz', 'pr', 'nr']\n",
      "204 values\n",
      "median\tMAD\tcutoff\tperc\n",
      "19.00\t2.00\t1.00\t0.0\n",
      "l\tdT\tnl\tkw\tpz\tpr\tnr\n",
      "\t\t\t\t\t\t\n",
      "removing 0 rows with no edges\n"
     ]
    },
    {
     "data": {
      "image/png": "[encoded data removed]",
      "text/plain": [
       "<Figure size 432x288 with 1 Axes>"
      ]
     },
     "metadata": {},
     "output_type": "display_data"
    },
    {
     "name": "stdout",
     "output_type": "stream",
     "text": [
      "median\tMAD\tcutoff\tperc\n",
      "0.61\t0.04\t0.70\t5.9\n",
      "l\tdT\tnl\tkw\tpz\tpr\tnr\n",
      "0.01\t5\t9\t0.5\t0.2,0\t0.2,0\t6,2,10\n",
      "\n",
      "--------------------------------------------------\n"
     ]
    }
   ],
   "source": [
    "for dataset in datasets:\n",
    "    eval_file = \"outputs/simulated/%s/%s/eval.csv\" % (simulations, dataset)\n",
    "    df, params_list = get_dataset(eval_file)\n",
    "    # measure = 'AUROC'\n",
    "    quantile = 0.99\n",
    "    # measures = ['AUROC', 'AUPRC', 'FMAX']\n",
    "    measures = ['AUROC']\n",
    "    for measure in measures:\n",
    "        summary_plt(df, alg, dataset, measure=measure)\n",
    "        cutoff = df[measure].quantile(quantile)\n",
    "        summarize(df[measure], cutoff)\n",
    "        get_best_params(df, measure, cutoff)\n",
    "    \n",
    "    print(\"%s\\n\" % \"-\"*50)"
   ]
  },
  {
   "cell_type": "code",
   "execution_count": 165,
   "metadata": {},
   "outputs": [
    {
     "name": "stdout",
     "output_type": "stream",
     "text": [
      "median\tMAD\tcutoff\tperc\n",
      "19.00\t12.50\t20.00\t50.1\n",
      "l\tdT\tnl\tkw\tpz\tpr\tnr\n",
      "0.01,0.02,0\t5,9,3,15\t5,9,15\t0.5,2,4,1\t0.5,0,0.2\t0.5,0,0.2\t6,2,10\n"
     ]
    }
   ],
   "source": [
    "summarize(df['num_edges'], 20, less_than=True)\n",
    "get_best_params(df, 'num_edges', 200, less_than=True)"
   ]
  },
  {
   "cell_type": "code",
   "execution_count": 31,
   "metadata": {},
   "outputs": [
    {
     "data": {
      "image/png": "[encoded data removed]",
      "text/plain": [
       "<Figure size 432x288 with 1 Axes>"
      ]
     },
     "metadata": {},
     "output_type": "display_data"
    },
    {
     "name": "stdout",
     "output_type": "stream",
     "text": [
      "median\tMAD\tcutoff\tperc\n",
      "0.75\t0.08\t0.87\t2.5\n",
      "l\tdT\tnl\tkw\tpz\tpr\tnr\n",
      "0.01\t5\t15\t0.5\t0.2,0\t0.2,0\t6,2,10\n"
     ]
    }
   ],
   "source": [
    "# measure = 'AUROC'\n",
    "quantile = 0.99\n",
    "# measures = ['AUROC', 'AUPRC', 'FMAX']\n",
    "measures = ['AUROC']\n",
    "for measure in measures:\n",
    "    summary_plt(df, alg, dataset, measure=measure)\n",
    "    cutoff = df[measure].quantile(quantile)\n",
    "    summarize(df[measure], cutoff)\n",
    "    get_best_params(df, measure, cutoff)"
   ]
  }
 ],
 "metadata": {
  "kernelspec": {
   "display_name": "Python 3",
   "language": "python",
   "name": "python3"
  },
  "language_info": {
   "codemirror_mode": {
    "name": "ipython",
    "version": 3
   },
   "file_extension": ".py",
   "mimetype": "text/x-python",
   "name": "python",
   "nbconvert_exporter": "python",
   "pygments_lexer": "ipython3",
   "version": "3.6.5"
  }
 },
 "nbformat": 4,
 "nbformat_minor": 2
}
